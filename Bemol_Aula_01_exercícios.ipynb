{
  "nbformat": 4,
  "nbformat_minor": 0,
  "metadata": {
    "colab": {
      "name": "Bemol : Aula 01 - exercícios ",
      "provenance": [],
      "authorship_tag": "ABX9TyNHy32jyhSiMJ1KBiUYrgmV",
      "include_colab_link": true
    },
    "kernelspec": {
      "name": "python3",
      "display_name": "Python 3"
    }
  },
  "cells": [
    {
      "cell_type": "markdown",
      "metadata": {
        "id": "view-in-github",
        "colab_type": "text"
      },
      "source": [
        "<a href=\"https://colab.research.google.com/github/1503-ng/Programa-o-em-Python/blob/master/Bemol_Aula_01_exerc%C3%ADcios.ipynb\" target=\"_parent\"><img src=\"https://colab.research.google.com/assets/colab-badge.svg\" alt=\"Open In Colab\"/></a>"
      ]
    },
    {
      "cell_type": "markdown",
      "metadata": {
        "id": "eHxpz3eus_SQ",
        "colab_type": "text"
      },
      "source": [
        "#Aula 01 Exercício 2 \n",
        "\n",
        "2. Crie um programa que verifique se uma letra digitada é \"F\" ou \"M\". Conforme a letra imprimir:\n",
        "* F - Feminino;\n",
        "* M - Masculino;\n",
        "* Sexo Inválido.\n",
        "\n",
        "Neste exercício tentei fazer a condição através do mesmo conceito de pegar os valores de uma lista, mas não está aceitando o 0 e 1."
      ]
    },
    {
      "cell_type": "code",
      "metadata": {
        "id": "NLIksWvVrHdg",
        "colab_type": "code",
        "outputId": "38d365d1-f5d9-476e-d8a5-37a1add49976",
        "colab": {
          "base_uri": "https://localhost:8080/",
          "height": 68
        }
      },
      "source": [
        "numero1 = int(input('Digite um número: '))\n",
        "numero2 = int(input('Digite um número: '))\n",
        "\n",
        "if(numero1> numero2):\n",
        "  print(numero1, 'é maior que', numero2)\n",
        "elif(numero1<numero2):\n",
        "  print(numero2, 'é maior que', numero1)\n",
        "else: \n",
        "  print('Os números são iguais')"
      ],
      "execution_count": 0,
      "outputs": [
        {
          "output_type": "stream",
          "text": [
            "Digite um número: 14\n",
            "Digite um número: 14\n",
            "Os números são iguais\n"
          ],
          "name": "stdout"
        }
      ]
    },
    {
      "cell_type": "markdown",
      "metadata": {
        "colab_type": "text",
        "id": "vJEjXNfC-Kmu"
      },
      "source": [
        "#Aula 01 Exercício 2 \n",
        "\n",
        "2. Crie um programa que verifique se uma letra digitada é \"F\" ou \"M\". Conforme a letra imprimir:\n",
        "* F - Feminino;\n",
        "* M - Masculino;\n",
        "* Sexo Inválido.\n",
        "\n",
        "Neste exercício tentei fazer a condição através do mesmo conceito de pegar os valores de uma lista, mas não está aceitando o 0 e 1."
      ]
    },
    {
      "cell_type": "code",
      "metadata": {
        "id": "Iqo6sAjytHQ0",
        "colab_type": "code",
        "outputId": "68da669a-fbfb-47a2-85a2-cb449e5e9f28",
        "colab": {
          "base_uri": "https://localhost:8080/",
          "height": 249
        }
      },
      "source": [
        "letra = input('Digite uma letra: ')\n",
        "\n",
        "\n",
        "generos = {\"F\":\"Feminino\",\"M\":\"Masculino\",}\n",
        "\n",
        "\n",
        "if(letra.lower in generos[1]):\n",
        "  print('Sexo feminino')\n",
        "elif(letra.lower in generos[2]):\n",
        "  print('Sexo masculino')\n",
        "else: \n",
        "  print('Sexo indefinido')"
      ],
      "execution_count": 0,
      "outputs": [
        {
          "output_type": "stream",
          "text": [
            "Digite uma letra: m\n"
          ],
          "name": "stdout"
        },
        {
          "output_type": "error",
          "ename": "KeyError",
          "evalue": "ignored",
          "traceback": [
            "\u001b[0;31m---------------------------------------------------------------------------\u001b[0m",
            "\u001b[0;31mKeyError\u001b[0m                                  Traceback (most recent call last)",
            "\u001b[0;32m<ipython-input-11-ebf429b42bc1>\u001b[0m in \u001b[0;36m<module>\u001b[0;34m()\u001b[0m\n\u001b[1;32m      5\u001b[0m \u001b[0;34m\u001b[0m\u001b[0m\n\u001b[1;32m      6\u001b[0m \u001b[0;34m\u001b[0m\u001b[0m\n\u001b[0;32m----> 7\u001b[0;31m \u001b[0;32mif\u001b[0m\u001b[0;34m(\u001b[0m\u001b[0mletra\u001b[0m\u001b[0;34m.\u001b[0m\u001b[0mlower\u001b[0m \u001b[0;32min\u001b[0m \u001b[0mgeneros\u001b[0m\u001b[0;34m[\u001b[0m\u001b[0;36m1\u001b[0m\u001b[0;34m]\u001b[0m\u001b[0;34m)\u001b[0m\u001b[0;34m:\u001b[0m\u001b[0;34m\u001b[0m\u001b[0;34m\u001b[0m\u001b[0m\n\u001b[0m\u001b[1;32m      8\u001b[0m   \u001b[0mprint\u001b[0m\u001b[0;34m(\u001b[0m\u001b[0;34m'Sexo feminino'\u001b[0m\u001b[0;34m)\u001b[0m\u001b[0;34m\u001b[0m\u001b[0;34m\u001b[0m\u001b[0m\n\u001b[1;32m      9\u001b[0m \u001b[0;32melif\u001b[0m\u001b[0;34m(\u001b[0m\u001b[0mletra\u001b[0m\u001b[0;34m.\u001b[0m\u001b[0mlower\u001b[0m \u001b[0;32min\u001b[0m \u001b[0mgeneros\u001b[0m\u001b[0;34m[\u001b[0m\u001b[0;36m2\u001b[0m\u001b[0;34m]\u001b[0m\u001b[0;34m)\u001b[0m\u001b[0;34m:\u001b[0m\u001b[0;34m\u001b[0m\u001b[0;34m\u001b[0m\u001b[0m\n",
            "\u001b[0;31mKeyError\u001b[0m: 1"
          ]
        }
      ]
    },
    {
      "cell_type": "markdown",
      "metadata": {
        "id": "2QZPxzgp-WCW",
        "colab_type": "text"
      },
      "source": [
        "#Aula 02 Exercício 3 \n",
        "\n",
        "3. Crie um programa que pede duas notas de um aluno. Em seguida ele deve calcular a média do aluno e dar o seguinte resultado:\n",
        "* A mensagem \"Aprovado\", se a média alcançada for maior ou igual a sete;\n",
        "* A mensagem \"Reprovado\", se a média for menor do que sete;\n",
        "* A mensagem \"Aprovado com Distinção\", se a média for igual a dez."
      ]
    },
    {
      "cell_type": "code",
      "metadata": {
        "id": "ISn63Efw-thZ",
        "colab_type": "code",
        "outputId": "f06bead8-fc12-4f6d-f090-910b49faf5c4",
        "colab": {
          "base_uri": "https://localhost:8080/",
          "height": 68
        }
      },
      "source": [
        "nota1 = int(input('Digite sua primeira nota: '))\n",
        "nota2 = int(input('Digite sua segunda nota: '))\n",
        "\n",
        "\n",
        "if((nota1+nota2)/2 == 10):\n",
        "  print('Aprovado com Distinção')\n",
        "elif((nota1+nota2)/2 >= 7):\n",
        "  print('Aprovado')\n",
        "elif((nota1+nota2)/2 < 7):\n",
        "  print('Reprovado')\n"
      ],
      "execution_count": 0,
      "outputs": [
        {
          "output_type": "stream",
          "text": [
            "Digite sua primeira nota: 10\n",
            "Digite sua segunda nota: 10\n",
            "Aprovado\n"
          ],
          "name": "stdout"
        }
      ]
    }
  ]
}