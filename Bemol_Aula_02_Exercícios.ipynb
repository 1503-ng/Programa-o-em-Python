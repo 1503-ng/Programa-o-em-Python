{
  "nbformat": 4,
  "nbformat_minor": 0,
  "metadata": {
    "colab": {
      "name": "Bemol - Aula 02 - Exercícios ",
      "provenance": [],
      "authorship_tag": "ABX9TyPJ5UFC371IICNsd0g9dLO4",
      "include_colab_link": true
    },
    "kernelspec": {
      "name": "python3",
      "display_name": "Python 3"
    }
  },
  "cells": [
    {
      "cell_type": "markdown",
      "metadata": {
        "id": "view-in-github",
        "colab_type": "text"
      },
      "source": [
        "<a href=\"https://colab.research.google.com/github/1503-ng/Programa-o-em-Python/blob/master/Bemol_Aula_02_Exerc%C3%ADcios.ipynb\" target=\"_parent\"><img src=\"https://colab.research.google.com/assets/colab-badge.svg\" alt=\"Open In Colab\"/></a>"
      ]
    },
    {
      "cell_type": "markdown",
      "metadata": {
        "id": "Y1PnRczy2G1q",
        "colab_type": "text"
      },
      "source": [
        "#Exercício 1 \n",
        "\n",
        "1. Faça uma função que receba dois números e retorne a média entre eles.\n"
      ]
    },
    {
      "cell_type": "code",
      "metadata": {
        "id": "35vPuPajv6gC",
        "colab_type": "code",
        "colab": {}
      },
      "source": [
        "def media(num1, num2):\n",
        "    return (num1+num2)/2\n",
        "\n",
        "   "
      ],
      "execution_count": 0,
      "outputs": []
    },
    {
      "cell_type": "code",
      "metadata": {
        "id": "nQuh86ts9x-M",
        "colab_type": "code",
        "outputId": "a5afa03a-bef6-40cc-836d-ced23a43c7b6",
        "colab": {
          "base_uri": "https://localhost:8080/",
          "height": 34
        }
      },
      "source": [
        "media(8,9)"
      ],
      "execution_count": 0,
      "outputs": [
        {
          "output_type": "execute_result",
          "data": {
            "text/plain": [
              "8.5"
            ]
          },
          "metadata": {
            "tags": []
          },
          "execution_count": 2
        }
      ]
    },
    {
      "cell_type": "markdown",
      "metadata": {
        "id": "SMpyBXn_-AQ4",
        "colab_type": "text"
      },
      "source": [
        "#Exercício 2\n",
        "\n",
        "2. Faça uma função que leia um código de material que contenha 3 letras e quatro números (Exemplo: EAN1248) e retorne a parte texto (EAN) e número (1248) separadas.\n"
      ]
    },
    {
      "cell_type": "code",
      "metadata": {
        "id": "U06TfF_r-CXU",
        "colab_type": "code",
        "colab": {}
      },
      "source": [
        "def codigo_material(cod):\n",
        "    letra = cod[:3]\n",
        "    num = cod[3:]\n",
        "    return letra, num\n"
      ],
      "execution_count": 0,
      "outputs": []
    },
    {
      "cell_type": "code",
      "metadata": {
        "id": "PvPhn246BWHp",
        "colab_type": "code",
        "colab": {}
      },
      "source": [
        "caracter,numero = codigo_material(\"AFG1234\")\n",
        "\n",
        "     "
      ],
      "execution_count": 0,
      "outputs": []
    },
    {
      "cell_type": "code",
      "metadata": {
        "id": "hfBEO4CJOY1y",
        "colab_type": "code",
        "outputId": "c3966f67-3bf3-467b-8d8c-94a8a5ba3f6e",
        "colab": {
          "base_uri": "https://localhost:8080/",
          "height": 34
        }
      },
      "source": [
        "caracter"
      ],
      "execution_count": 0,
      "outputs": [
        {
          "output_type": "execute_result",
          "data": {
            "text/plain": [
              "'AFG'"
            ]
          },
          "metadata": {
            "tags": []
          },
          "execution_count": 5
        }
      ]
    },
    {
      "cell_type": "code",
      "metadata": {
        "id": "Ak0eE2SKOiCY",
        "colab_type": "code",
        "outputId": "0b81f73c-bb7b-438e-abb7-81a709da40e6",
        "colab": {
          "base_uri": "https://localhost:8080/",
          "height": 34
        }
      },
      "source": [
        "numero"
      ],
      "execution_count": 0,
      "outputs": [
        {
          "output_type": "execute_result",
          "data": {
            "text/plain": [
              "'1234'"
            ]
          },
          "metadata": {
            "tags": []
          },
          "execution_count": 6
        }
      ]
    },
    {
      "cell_type": "markdown",
      "metadata": {
        "id": "Mng1TAbz9I8f",
        "colab_type": "text"
      },
      "source": [
        "#Exercício 3 \n",
        "\n",
        "3. Um vendedor de casquinhas de sorvete quer um sistema onde ele informe a quantidade e o sabor do sorvete. Em sua sorveteria vendem-se 3 sabores de sorvete com preços variados.\n",
        "\n",
        "* Chocolate = 2.50\n",
        "* Baunilha = 3.00\n",
        "* Mista = 3.50\n",
        "\n",
        "Como podemos ajudá-lo com uma função para calcular o valor total do pedido para clientes que estão na fila?"
      ]
    },
    {
      "cell_type": "code",
      "metadata": {
        "id": "Y6GT4uAY9Q8G",
        "colab_type": "code",
        "colab": {}
      },
      "source": [
        "def valor_sorvete(preco):\n",
        "  sabores = Chocolate = float(input('Quantos sorvetes de chocolate?'))\n",
        "  Baunilha = float(input('Quantos sorvetes de baunilha?'))\n",
        "  Mista = float(input('Quantos sorvetes mistos?'))\n",
        "\n",
        "  if (sabores == Chocolate):\n",
        "    Chocolate*2.50\n",
        "    print(Chocolate)\n",
        "  elif (preco == Baunilha):\n",
        "    Baunilha*3.00\n",
        "    print(Baunilha)\n",
        "  elif (sabores == Mista):\n",
        "    Mista*3.50\n",
        "    print(Baunilha)\n",
        "  \n",
        "  \n"
      ],
      "execution_count": 0,
      "outputs": []
    },
    {
      "cell_type": "code",
      "metadata": {
        "id": "KqTn-B1ZBECM",
        "colab_type": "code",
        "outputId": "786a9f62-db04-4228-d11c-e2e20a591b58",
        "colab": {
          "base_uri": "https://localhost:8080/",
          "height": 85
        }
      },
      "source": [
        "valor = valor_sorvete(sabores)\n",
        "\n",
        "\n"
      ],
      "execution_count": 0,
      "outputs": [
        {
          "output_type": "stream",
          "text": [
            "Quantos sorvetes de chocolate?1\n",
            "Quantos sorvetes de baunilha?1\n",
            "Quantos sorvetes mistos?1\n",
            "1.0\n"
          ],
          "name": "stdout"
        }
      ]
    }
  ]
}